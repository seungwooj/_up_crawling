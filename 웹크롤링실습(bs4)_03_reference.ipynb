{
 "cells": [
  {
   "cell_type": "code",
   "execution_count": 1,
   "metadata": {},
   "outputs": [],
   "source": [
    "import requests\n",
    "from bs4 import BeautifulSoup\n",
    "import konlpy\n",
    "from konlpy.tag import Twitter\n",
    "import pandas as pd\n",
    "from collections import Counter"
   ]
  },
  {
   "cell_type": "code",
   "execution_count": 2,
   "metadata": {},
   "outputs": [],
   "source": [
    "#konlpy 패키지 사용을 위한 객체 선언\n",
    "twitter = Twitter()"
   ]
  },
  {
   "cell_type": "code",
   "execution_count": 3,
   "metadata": {},
   "outputs": [],
   "source": [
    "#전체 데이터 갯수를 가져오는 함수 \n",
    "def get_total(keyword) :\n",
    "    url = \"https://m.cafe.naver.com/ArticleSearchList.nhn?search.query=%\" + keyword +  \\\n",
    "    \"&search.menuid=&search.searchBy=1&search.sortBy=date&search.clubid=10258021&search.option=0&search.defaultValue=\"\n",
    "    response = requests.get(url)\n",
    "    dom = BeautifulSoup(response.content, \"html.parser\")\n",
    "    return dom.select_one(\"#ct > div.search_contents > div.search_sort > div.sort_l > span\").text\n"
   ]
  },
  {
   "cell_type": "code",
   "execution_count": 4,
   "metadata": {},
   "outputs": [],
   "source": [
    "#해당 키워드와 페이지 리스트를 가져오는 함수\n",
    "def get_list(keyword, page) : \n",
    "    url = \"https://m.cafe.naver.com/ArticleSearchListAjax.nhn?search.query=\" + keyword + \\\n",
    "    \"&search.menuid=&search.searchBy=0&search.sortBy=date&search.clubid=10258021&search.option=0&search.defaultValue=&search.page=\" + \\\n",
    "    str(page)\n",
    "    response = requests.get(url)\n",
    "    dom = BeautifulSoup(response.content, \"html.parser\")\n",
    "    return dom.select(\"a\")\n",
    "\n",
    "dom = get_list(\"여행\", 1)"
   ]
  },
  {
   "cell_type": "code",
   "execution_count": 5,
   "metadata": {},
   "outputs": [],
   "source": [
    "def get_link(dom) : \n",
    "    ls = []\n",
    "    for i in range(0, len(dom)) :\n",
    "        link = dom[i].get('href')\n",
    "        if len(link) > 2 and \"Comment\" not in link and \"javascript\" not in link :\n",
    "            link = \"http://m.cafe.naver.com\"+link\n",
    "            ls.append(link)\n",
    "    return ls"
   ]
  },
  {
   "cell_type": "code",
   "execution_count": 6,
   "metadata": {},
   "outputs": [
    {
     "data": {
      "text/plain": [
       "['http://m.cafe.naver.com/ArticleRead.nhn?clubid=10258021&menuid=167&articleid=15097701&query=%EC%97%AC%ED%96%89',\n",
       " 'http://m.cafe.naver.com/ArticleRead.nhn?clubid=10258021&menuid=163&articleid=15096732&query=%EC%97%AC%ED%96%89',\n",
       " 'http://m.cafe.naver.com/ArticleRead.nhn?clubid=10258021&menuid=237&articleid=15096635&query=%EC%97%AC%ED%96%89',\n",
       " 'http://m.cafe.naver.com/ArticleRead.nhn?clubid=10258021&menuid=236&articleid=15096620&query=%EC%97%AC%ED%96%89',\n",
       " 'http://m.cafe.naver.com/ArticleRead.nhn?clubid=10258021&menuid=160&articleid=15096086&query=%EC%97%AC%ED%96%89',\n",
       " 'http://m.cafe.naver.com/ArticleRead.nhn?clubid=10258021&menuid=237&articleid=15096074&query=%EC%97%AC%ED%96%89',\n",
       " 'http://m.cafe.naver.com/ArticleRead.nhn?clubid=10258021&menuid=174&articleid=15093639&query=%EC%97%AC%ED%96%89',\n",
       " 'http://m.cafe.naver.com/ArticleRead.nhn?clubid=10258021&menuid=174&articleid=15091271&query=%EC%97%AC%ED%96%89',\n",
       " 'http://m.cafe.naver.com/ArticleRead.nhn?clubid=10258021&menuid=132&articleid=15091010&query=%EC%97%AC%ED%96%89',\n",
       " 'http://m.cafe.naver.com/ArticleRead.nhn?clubid=10258021&menuid=174&articleid=15089235&query=%EC%97%AC%ED%96%89',\n",
       " 'http://m.cafe.naver.com/ArticleRead.nhn?clubid=10258021&menuid=161&articleid=15088958&query=%EC%97%AC%ED%96%89',\n",
       " 'http://m.cafe.naver.com/ArticleRead.nhn?clubid=10258021&menuid=138&articleid=15088838&query=%EC%97%AC%ED%96%89',\n",
       " 'http://m.cafe.naver.com/ArticleRead.nhn?clubid=10258021&menuid=237&articleid=15085913&query=%EC%97%AC%ED%96%89',\n",
       " 'http://m.cafe.naver.com/ArticleRead.nhn?clubid=10258021&menuid=305&articleid=15083251&query=%EC%97%AC%ED%96%89',\n",
       " 'http://m.cafe.naver.com/ArticleRead.nhn?clubid=10258021&menuid=298&articleid=15080046&query=%EC%97%AC%ED%96%89',\n",
       " 'http://m.cafe.naver.com/ArticleRead.nhn?clubid=10258021&menuid=206&articleid=15078839&query=%EC%97%AC%ED%96%89',\n",
       " 'http://m.cafe.naver.com/ArticleRead.nhn?clubid=10258021&menuid=40&articleid=15077658&query=%EC%97%AC%ED%96%89',\n",
       " 'http://m.cafe.naver.com/ArticleRead.nhn?clubid=10258021&menuid=237&articleid=15077602&query=%EC%97%AC%ED%96%89',\n",
       " 'http://m.cafe.naver.com/ArticleRead.nhn?clubid=10258021&menuid=138&articleid=15076511&query=%EC%97%AC%ED%96%89',\n",
       " 'http://m.cafe.naver.com/ArticleRead.nhn?clubid=10258021&menuid=162&articleid=15070508&query=%EC%97%AC%ED%96%89']"
      ]
     },
     "execution_count": 6,
     "metadata": {},
     "output_type": "execute_result"
    }
   ],
   "source": [
    "get_link(dom)"
   ]
  },
  {
   "cell_type": "code",
   "execution_count": 7,
   "metadata": {},
   "outputs": [],
   "source": [
    "#페이지 들어가서 텍스트 데이터 긁어오는 함수\n",
    "def get_text(link) :\n",
    "    headers = {\n",
    "        \"Referer\"  : \"https://m.cafe.naver.com/ArticleRead.nhn?clubid=10258021&menuid=251&articleid=\"+ \\\n",
    "        \"15027772&query=%ED%8E%AB%EC%8B%9C%ED%84%B0\",\n",
    "        \"User-Agent\" : \"Mozilla/5.0 (X11; Linux x86_64) AppleWebKit/537.36 (KHTML, like Gecko) Chrome/64.0.3282.186 Safari/537.36\"\n",
    "    }\n",
    "    \n",
    "    response = requests.get(link, headers = headers)\n",
    "    dom = BeautifulSoup(response.content, \"html.parser\")\n",
    "    text = dom.select_one(\"#postContent\").text\n",
    "    return text"
   ]
  },
  {
   "cell_type": "code",
   "execution_count": 8,
   "metadata": {},
   "outputs": [],
   "source": [
    "def get_all_texts(keyword) :\n",
    "    total = get_total(keyword)\n",
    "    pages = int(total) // 20 + 1\n",
    "    text_sets = []\n",
    "    for page in range(1, pages + 1) :\n",
    "        text = get_list(keyword, page)\n",
    "        link_ls = get_link(text)\n",
    "        for link in link_ls :\n",
    "            all_text = get_text(link)\n",
    "            all_text = twitter.nouns(all_text)\n",
    "            text_sets.extend(all_text)\n",
    "    return text_sets"
   ]
  },
  {
   "cell_type": "code",
   "execution_count": null,
   "metadata": {},
   "outputs": [],
   "source": [
    "text_ls = get_all_texts(\"여행\")"
   ]
  },
  {
   "cell_type": "code",
   "execution_count": null,
   "metadata": {},
   "outputs": [],
   "source": [
    "Counter(text_ls).most_common(50)"
   ]
  },
  {
   "cell_type": "code",
   "execution_count": null,
   "metadata": {},
   "outputs": [],
   "source": []
  }
 ],
 "metadata": {
  "kernelspec": {
   "display_name": "Python 3",
   "language": "python",
   "name": "python3"
  },
  "language_info": {
   "codemirror_mode": {
    "name": "ipython",
    "version": 3
   },
   "file_extension": ".py",
   "mimetype": "text/x-python",
   "name": "python",
   "nbconvert_exporter": "python",
   "pygments_lexer": "ipython3",
   "version": "3.6.4"
  }
 },
 "nbformat": 4,
 "nbformat_minor": 2
}
