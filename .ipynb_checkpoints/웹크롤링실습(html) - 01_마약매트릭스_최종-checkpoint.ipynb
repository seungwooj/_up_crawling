{
 "cells": [
  {
   "cell_type": "code",
   "execution_count": 1,
   "metadata": {},
   "outputs": [],
   "source": [
    "import requests"
   ]
  },
  {
   "cell_type": "code",
   "execution_count": 2,
   "metadata": {},
   "outputs": [
    {
     "name": "stdout",
     "output_type": "stream",
     "text": [
      "1\n"
     ]
    }
   ],
   "source": [
    "#id / age / comment / rate리스트 선언\n",
    "id_list = []\n",
    "age_list = []\n",
    "comment_list = []\n",
    "rate_list = []\n",
    "\n",
    "for page in range(1,2): #총 게시물 현재 8,615개 -> 여유있게 10000개까지\n",
    "    \n",
    "\n",
    "\n",
    "    url = \"http://widgets4.cre.ma/bodyluv.kr/products/reviews?product_code=52&iframe_id=crema-product-reviews-2&app=0&parent_url=http%3A%2F%2Fwww.bodyluv.kr%2Fproduct%2F%25EB%25A7%2588%25EC%2595%25BD%25EB%25A7%25A4%25ED%258A%25B8%25EB%25A6%25AC%25EC%258A%25A4%2F52%2Fcategory%2F25%2Fdisplay%2F1%2F%3Fcrema-product-reviews-2-page%3D2&page=\" + str(page) + \"&iframe=1\"\n",
    "    \n",
    "    print(page)\n",
    "\n",
    "    text = requests.get(url).text\n",
    "    \n",
    "    \n",
    "    id_r = text.split(\"<li class=\\\"comment\\\"\"+\" id=\\\"comment_\") #id는 별도로 가지고 있음.\n",
    "    \n",
    "    r = text.split(\"<div class=\\\"products_reviews_list_review__message\\\">\") #age, comment 둘다 가지고 있는 html\n",
    "    \n",
    "    rate_r = text.split(\"<div class=\\\"products_reviews_list_review__score_text_rating\\\">\")\n",
    "        \n",
    "    if len(r) == 0:\n",
    "        break\n",
    "        \n",
    "        \n",
    "    for x in id_r[1:]:\n",
    "        \n",
    "        id = x.split(\">\"+\"\\n  \"+\"<div class=\\\"comment__inner\\\">\\n\")[0]\n",
    "        id = id.replace('\"', \"\")\n",
    "        id_list.append(id)\n",
    "        \n",
    "    for y in r[1:]:\n",
    "        \n",
    "        if \"<div class=\\\"products_reviews_list_review__message_content\\\">\" in y:\n",
    "            \n",
    "            comment = y.split(\"<div class=\\\"products_reviews_list_review__message_content\\\">\")[1].split(\"\\n\\n            </div>\")[0]\n",
    "            comment = comment.replace(\"\\n              \", \"\").replace(\"<br>\", \" \")\n",
    "            \n",
    "            if \"연령대</div>\" in y:\n",
    "                age = y.split(\"연령대</div>\")[1].split(\"</div>\")[0]\n",
    "                age = age.replace(\"<div class=\\\"review_option__content\\\">\", \"\").replace(\"\\n        \",\"\")\n",
    "            else:\n",
    "                age = \"None\"\n",
    "            \n",
    "            age_list.append(age)\n",
    "            comment_list.append(comment)\n",
    "            \n",
    "        else:\n",
    "            pass\n",
    "    \n",
    "    for z in rate_r[1:]:\n",
    "        \n",
    "        rate = z.split(\"</div>\")[0]\n",
    "        rate = rate.replace('- ', \"\")\n",
    "        rate_list.append(rate)\n",
    "        \n"
   ]
  },
  {
   "cell_type": "code",
   "execution_count": 3,
   "metadata": {},
   "outputs": [
    {
     "data": {
      "text/plain": [
       "['93243', '87547', '93474', '82229', '82224']"
      ]
     },
     "execution_count": 3,
     "metadata": {},
     "output_type": "execute_result"
    }
   ],
   "source": [
    "id_list #태그 속의 id 번호 가져오기"
   ]
  },
  {
   "cell_type": "code",
   "execution_count": 4,
   "metadata": {},
   "outputs": [
    {
     "data": {
      "text/plain": [
       "['None', '30대', 'None', '20대', '30대']"
      ]
     },
     "execution_count": 4,
     "metadata": {},
     "output_type": "execute_result"
    }
   ],
   "source": [
    "age_list #후기를 클릭해야 보이는 정보. 일부 입력을 하지 않을 경우, 태그 자체가 존재를 하지 않아 list가 잘못 생성됨."
   ]
  },
  {
   "cell_type": "code",
   "execution_count": 5,
   "metadata": {
    "scrolled": true
   },
   "outputs": [
    {
     "data": {
      "text/plain": [
       "['만족 누워 보니까 눈물이 나네요.. 왜 이제서야 이걸 사게 됐을까..  (2018-04-18 23:35:17 에 등록된 네이버 페이 구매평)',\n",
       " '매트리스도 만족하고 방수속커버도 짱짱한듯해요ㅎ 낄땐 쪼금 애먹었어요ㅋㅋ',\n",
       " '만족 정말 마약매트리스답게 눕자마자 잠도잘오고 일어나도 몸이 안뻐근하네여  (2018-04-19 12:47:26 에 등록된 네이버 페이 구매평)',\n",
       " '이걸 왜 이제야샀나 하고 눕자마자 후회했습니다ㅠㅠ 그 뭐랄까 침대에 빨려들어가는 기분 아시는분계시나요ㅠㅠ 그 느낌이에요 매트리스에 빨려들어가는기분.. 왜 마약매트리스인지 알꺼같네요 여러 좋은 매트리스 많이 써봤고 사실 사기전까지만해도 굴곡 좀 들어간다고 뭐가 다르겠어? 광고빨이겠지 했는데 다른매트리스와는 확실히 다르네요 뭐랄까 몸을 진짜 다 잡아줘요 누워있을수록 너무 편하고 일어나야되는데 일어나기싫어져욬ㅋㅋㅋㅋㅋㅋㅋㅋㅋㅋ 아침에 어떡하지.. 아 그리고 원래 매트리스 두개를 사서 두개 겹쳐서 깔려그랬거든요 매트리스는 푹신한게 좋아서! 11cm라 조금 고민 많이 했는데 일단 하나사서 써보고 부족하면 하나 더사서 두개깔아서 쓰자 했는데 충분히 푹신푹신하네요ㅋㅋㅋㅋㅋ 1대1카톡상담도 두개사서 겹쳐서 쓸려하는데 괜찮냐고 물어봤다가 보통은 팔려고 두개쓰셔도 좋아여! 하는데 바디럽은 두개 겹쳐서 써도 상관없고 기능에는 아무문제없지만 한개만 쓰는걸 추천한다고ㅠㅠ 양심적ㅠㅠ 7cm는 모르겠지만 11cm는 제 기준 정말 푹신푹신해요! 160/39~40 인데 싱글사이즈 길이도 딱맞고 좋아여ㅠ 앞으로 이것만 쓸듯.. 내구성이라던지 복원력은 더 써봐야지 알꺼같지만 지금으로써는 최고네요 속는셈치고 한번 사본건데 대박이네요 앞으로 바디럽 애용해야지ㅠㅠ 바디럽 어플은 없나요?ㅠㅠ 나중에 이불도 만들어주셨으면..',\n",
       " '집을 인테리어한지얼마안되서 지금 방바닥에서만 자고있는데 침대사용하다 바닥에 잘려니깐 너무 등허리 어깨 모두다 아프더라고요~ sns하다가 우연히 퓨어섬샤워기를 봤는데 혁신적이엿고 그거보다가 매트릭스도 보게됫는데 이 싸이트는 몸을 우선적으로 생각하는 곳이다라고 생각했습니다 전에 바닥생활이 불편해서 마약 매트릭스를 구입했는데 + 마약 베게까지 구입햇는데 환상에 콤비인마냥 언제 잤는지 모르게 잠을잤고 잠잘때 예민해서 잘깨고 잘뒤척거리는데 바닥이 너무편해서 그런지 뒤척이지도않고 뒤척거려도 엄청편안하다는 생각을 많이 받았습니다 이번달 월급 들어올때까지 계속사용하다가 월급들어오면 부모님도 매트릭스도 갈아드려야겠어요 요즘 자꾸 잠잘때 자꾸 몸이 불편하시다고 하시는데 효도할생각입니다 여튼 저는 너무 만족하며 쓰고 이렇게 리뷰까지 남기게 되네요 참고로 남자고요 남자들 이렇게 귀찮게 글잘안쓰는데 글도 남겨봅니다 너무맘에 들어서 여튼 좋은하루되세요']"
      ]
     },
     "execution_count": 5,
     "metadata": {},
     "output_type": "execute_result"
    }
   ],
   "source": [
    "comment_list"
   ]
  },
  {
   "cell_type": "code",
   "execution_count": 6,
   "metadata": {},
   "outputs": [
    {
     "data": {
      "text/plain": [
       "['아주 좋아요', '아주 좋아요', '아주 좋아요', '아주 좋아요', '아주 좋아요']"
      ]
     },
     "execution_count": 6,
     "metadata": {},
     "output_type": "execute_result"
    }
   ],
   "source": [
    "rate_list"
   ]
  },
  {
   "cell_type": "code",
   "execution_count": 7,
   "metadata": {},
   "outputs": [
    {
     "name": "stdout",
     "output_type": "stream",
     "text": [
      "5 5 5 5\n"
     ]
    }
   ],
   "source": [
    "print(len(id_list), len(age_list), len(comment_list), len(rate_list)) # 전체 데이터 길이 확인."
   ]
  },
  {
   "cell_type": "code",
   "execution_count": null,
   "metadata": {},
   "outputs": [],
   "source": []
  },
  {
   "cell_type": "code",
   "execution_count": 8,
   "metadata": {},
   "outputs": [],
   "source": [
    "#데이터 프레임 작성"
   ]
  },
  {
   "cell_type": "code",
   "execution_count": 9,
   "metadata": {},
   "outputs": [],
   "source": [
    "data = {'id': id_list,\n",
    "        'age': age_list,\n",
    "        'rate' : rate_list,\n",
    "        'comment': comment_list}"
   ]
  },
  {
   "cell_type": "code",
   "execution_count": 10,
   "metadata": {},
   "outputs": [
    {
     "data": {
      "text/html": [
       "<div>\n",
       "<style scoped>\n",
       "    .dataframe tbody tr th:only-of-type {\n",
       "        vertical-align: middle;\n",
       "    }\n",
       "\n",
       "    .dataframe tbody tr th {\n",
       "        vertical-align: top;\n",
       "    }\n",
       "\n",
       "    .dataframe thead th {\n",
       "        text-align: right;\n",
       "    }\n",
       "</style>\n",
       "<table border=\"1\" class=\"dataframe\">\n",
       "  <thead>\n",
       "    <tr style=\"text-align: right;\">\n",
       "      <th></th>\n",
       "      <th>id</th>\n",
       "      <th>age</th>\n",
       "      <th>rate</th>\n",
       "      <th>comment</th>\n",
       "    </tr>\n",
       "  </thead>\n",
       "  <tbody>\n",
       "    <tr>\n",
       "      <th>0</th>\n",
       "      <td>93243</td>\n",
       "      <td>None</td>\n",
       "      <td>아주 좋아요</td>\n",
       "      <td>만족 누워 보니까 눈물이 나네요.. 왜 이제서야 이걸 사게 됐을까..  (2018-...</td>\n",
       "    </tr>\n",
       "    <tr>\n",
       "      <th>1</th>\n",
       "      <td>87547</td>\n",
       "      <td>30대</td>\n",
       "      <td>아주 좋아요</td>\n",
       "      <td>매트리스도 만족하고 방수속커버도 짱짱한듯해요ㅎ 낄땐 쪼금 애먹었어요ㅋㅋ</td>\n",
       "    </tr>\n",
       "    <tr>\n",
       "      <th>2</th>\n",
       "      <td>93474</td>\n",
       "      <td>None</td>\n",
       "      <td>아주 좋아요</td>\n",
       "      <td>만족 정말 마약매트리스답게 눕자마자 잠도잘오고 일어나도 몸이 안뻐근하네여  (201...</td>\n",
       "    </tr>\n",
       "    <tr>\n",
       "      <th>3</th>\n",
       "      <td>82229</td>\n",
       "      <td>20대</td>\n",
       "      <td>아주 좋아요</td>\n",
       "      <td>이걸 왜 이제야샀나 하고 눕자마자 후회했습니다ㅠㅠ 그 뭐랄까 침대에 빨려들어가는 기...</td>\n",
       "    </tr>\n",
       "    <tr>\n",
       "      <th>4</th>\n",
       "      <td>82224</td>\n",
       "      <td>30대</td>\n",
       "      <td>아주 좋아요</td>\n",
       "      <td>집을 인테리어한지얼마안되서 지금 방바닥에서만 자고있는데 침대사용하다 바닥에 잘려니깐...</td>\n",
       "    </tr>\n",
       "  </tbody>\n",
       "</table>\n",
       "</div>"
      ],
      "text/plain": [
       "      id   age    rate                                            comment\n",
       "0  93243  None  아주 좋아요  만족 누워 보니까 눈물이 나네요.. 왜 이제서야 이걸 사게 됐을까..  (2018-...\n",
       "1  87547   30대  아주 좋아요            매트리스도 만족하고 방수속커버도 짱짱한듯해요ㅎ 낄땐 쪼금 애먹었어요ㅋㅋ\n",
       "2  93474  None  아주 좋아요  만족 정말 마약매트리스답게 눕자마자 잠도잘오고 일어나도 몸이 안뻐근하네여  (201...\n",
       "3  82229   20대  아주 좋아요  이걸 왜 이제야샀나 하고 눕자마자 후회했습니다ㅠㅠ 그 뭐랄까 침대에 빨려들어가는 기...\n",
       "4  82224   30대  아주 좋아요  집을 인테리어한지얼마안되서 지금 방바닥에서만 자고있는데 침대사용하다 바닥에 잘려니깐..."
      ]
     },
     "execution_count": 10,
     "metadata": {},
     "output_type": "execute_result"
    }
   ],
   "source": [
    "df = pd.DataFrame(data, columns=[\"id\", \"age\", \"rate\", \"comment\"])\n",
    "df"
   ]
  }
 ],
 "metadata": {
  "kernelspec": {
   "display_name": "Python 3",
   "language": "python",
   "name": "python3"
  },
  "language_info": {
   "codemirror_mode": {
    "name": "ipython",
    "version": 3
   },
   "file_extension": ".py",
   "mimetype": "text/x-python",
   "name": "python",
   "nbconvert_exporter": "python",
   "pygments_lexer": "ipython3",
   "version": "3.6.4"
  }
 },
 "nbformat": 4,
 "nbformat_minor": 2
}
