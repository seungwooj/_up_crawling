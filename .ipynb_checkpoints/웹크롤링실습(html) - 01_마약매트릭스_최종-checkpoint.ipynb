{
 "cells": [
  {
   "cell_type": "code",
   "execution_count": 23,
   "metadata": {},
   "outputs": [],
   "source": [
    "import requests\n",
    "from tqdm import tqdm_notebook"
   ]
  },
  {
   "cell_type": "code",
   "execution_count": 125,
   "metadata": {},
   "outputs": [
    {
     "name": "stdout",
     "output_type": "stream",
     "text": [
      "1\n"
     ]
    }
   ],
   "source": [
    "#comment 합치기\n",
    "\n",
    "id_list = []\n",
    "age_list = []\n",
    "comment_list = []\n",
    "\n",
    "for page in range(1,2): #총 게시물 현재 8,615개 -> 여유있게 10000개까지\n",
    "    \n",
    "\n",
    "\n",
    "    url = \"http://widgets4.cre.ma/bodyluv.kr/products/reviews?product_code=52&iframe_id=crema-product-reviews-2&app=0&parent_url=http%3A%2F%2Fwww.bodyluv.kr%2Fproduct%2F%25EB%25A7%2588%25EC%2595%25BD%25EB%25A7%25A4%25ED%258A%25B8%25EB%25A6%25AC%25EC%258A%25A4%2F52%2Fcategory%2F25%2Fdisplay%2F1%2F%3Fcrema-product-reviews-2-page%3D2&page=\" + str(page) + \"&iframe=1\"\n",
    "    print(page)\n",
    "\n",
    "    text = requests.get(url).text\n",
    "    \n",
    "    \n",
    "    id_r = text.split(\"<ul=\\\"reviews reviews-product\\\">\")\n",
    "    age_r = text.split(\"<div class=\\\"review_option__content\\\">\")\n",
    "    comment_r = text.split(\"<div class=\\\"products_reviews_list_review__message_content\\\">\")\n",
    "    \n",
    "    if len(comment_r) == 0:\n",
    "        break\n",
    "        \n",
    "        \n",
    "    for x in id_r[1:]:\n",
    "        \n",
    "        id = x.split(\"<div class=\\\"products_reviews_list_review__inner\\\">\")[0]\n",
    "        id_list.append(id)\n",
    "        \n",
    "    for y in age_r[1:]:\n",
    "        \n",
    "        age = y.split(\"</div>\")[0]\n",
    "        age_list.append(age)\n",
    "\n",
    "    \n",
    "    for z in comment_r[1:]:\n",
    "        \n",
    "        comment = z.split(\"</div>\")[0]\n",
    "        comment_list.append(comment)\n",
    "        \n",
    "    "
   ]
  },
  {
   "cell_type": "code",
   "execution_count": 130,
   "metadata": {},
   "outputs": [
    {
     "data": {
      "text/plain": [
       "[]"
      ]
     },
     "execution_count": 130,
     "metadata": {},
     "output_type": "execute_result"
    }
   ],
   "source": [
    "id_list #태그 속의 id 번호 가져오기...  split이 안되는 이유를 모르겠음."
   ]
  },
  {
   "cell_type": "code",
   "execution_count": 131,
   "metadata": {},
   "outputs": [
    {
     "data": {
      "text/plain": [
       "['30대',\n",
       " '\\n          \\n            <span class=\"review_option__product_option\">\\n              <span class=\"review_option__product_option_key\">방수속커버:</span>\\n              <span class=\"review_option__product_option_value\">방수속커버 (Queen size 바닥형_11cm)</span>\\n            </span>\\n          \\n        ',\n",
       " '20대',\n",
       " '\\n          \\n            <span class=\"review_option__product_option\">\\n              <span class=\"review_option__product_option_key\">마약매트리스:</span>\\n              <span class=\"review_option__product_option_value\">[11S] Single size 바닥형 (11cm)</span>\\n            </span>\\n          \\n        ',\n",
       " '30대',\n",
       " '\\n          \\n            <span class=\"review_option__product_option\">\\n              <span class=\"review_option__product_option_key\">마약매트리스:</span>\\n              <span class=\"review_option__product_option_value\">[11Q] Queen size 바닥형 (11cm)</span>\\n            </span>\\n          \\n        ']"
      ]
     },
     "execution_count": 131,
     "metadata": {},
     "output_type": "execute_result"
    }
   ],
   "source": [
    "age_list #후기를 클릭해야 보이는 정보. 일부 입력을 하지 않을 경우, 태그 자체가 존재를 하지 않아 list가 잘못 생성됨."
   ]
  },
  {
   "cell_type": "code",
   "execution_count": 132,
   "metadata": {},
   "outputs": [
    {
     "data": {
      "text/plain": [
       "['\\n              만족<br>누워 보니까 눈물이 나네요.. 왜 이제서야 이걸 사게 됐을까..<br><br>(2018-04-18 23:35:17 에 등록된 네이버 페이 구매평)\\n              \\n\\n            ',\n",
       " '\\n              매트리스도 만족하고 방수속커버도 짱짱한듯해요ㅎ<br>낄땐 쪼금 애먹었어요ㅋㅋ\\n              \\n\\n            ',\n",
       " '\\n              만족<br>정말 마약매트리스답게 눕자마자 잠도잘오고 일어나도 몸이 안뻐근하네여<br><br>(2018-04-19 12:47:26 에 등록된 네이버 페이 구매평)\\n              \\n\\n            ',\n",
       " '\\n              이걸 왜 이제야샀나 하고 눕자마자 후회했습니다ㅠㅠ 그 뭐랄까 침대에 빨려들어가는 기분 아시는분계시나요ㅠㅠ 그 느낌이에요 매트리스에 빨려들어가는기분.. 왜 마약매트리스인지 알꺼같네요 여러 좋은 매트리스 많이 써봤고 사실 사기전까지만해도 굴곡 좀 들어간다고 뭐가 다르겠어? 광고빨이겠지 했는데 다른매트리스와는 확실히 다르네요 뭐랄까 몸을 진짜 다 잡아줘요 누워있을수록 너무 편하고 일어나야되는데 일어나기싫어져욬ㅋㅋㅋㅋㅋㅋㅋㅋㅋㅋ 아침에 어떡하지.. 아 그리고 원래 매트리스 두개를 사서 두개 겹쳐서 깔려그랬거든요 매트리스는<br>푹신한게 좋아서! 11cm라 조금 고민 많이 했는데 일단 하나사서 써보고 부족하면 하나 더사서 두개깔아서 쓰자 했는데 충분히 푹신푹신하네요ㅋㅋㅋㅋㅋ 1대1카톡상담도 두개사서 겹쳐서 쓸려하는데 괜찮냐고 물어봤다가 보통은 팔려고 두개쓰셔도 좋아여! 하는데 바디럽은 두개<br>겹쳐서 써도 상관없고 기능에는 아무문제없지만 한개만 쓰는걸 추천한다고ㅠㅠ 양심적ㅠㅠ 7cm는 모르겠지만 11cm는 제 기준 정말 푹신푹신해요! 160/39~40 인데 싱글사이즈 길이도 딱맞고 좋아여ㅠ 앞으로 이것만 쓸듯.. 내구성이라던지 복원력은 더 써봐야지 알꺼같지만 지금으로써는 최고네요 속는셈치고 한번 사본건데 대박이네요 앞으로 바디럽 애용해야지ㅠㅠ 바디럽 어플은 없나요?ㅠㅠ 나중에 이불도 만들어주셨으면..\\n              \\n\\n            ',\n",
       " '\\n              집을 인테리어한지얼마안되서 지금 방바닥에서만 자고있는데 침대사용하다 바닥에 잘려니깐 너무 등허리 어깨 모두다 아프더라고요~ sns하다가 우연히 퓨어섬샤워기를 봤는데 혁신적이엿고 그거보다가 매트릭스도 보게됫는데 이 싸이트는 몸을 우선적으로 생각하는 곳이다라고 생각했습니다 전에 바닥생활이 불편해서 마약 매트릭스를 구입했는데 + 마약 베게까지 구입햇는데 환상에 콤비인마냥 언제 잤는지 모르게 잠을잤고 잠잘때 예민해서 잘깨고 잘뒤척거리는데 바닥이 너무편해서 그런지 뒤척이지도않고 뒤척거려도 엄청편안하다는 생각을 많이 받았습니다 이번달 월급 들어올때까지 계속사용하다가 월급들어오면 부모님도 매트릭스도 갈아드려야겠어요 요즘 자꾸 잠잘때 자꾸 몸이 불편하시다고 하시는데 효도할생각입니다 여튼 저는 너무 만족하며 쓰고 이렇게 리뷰까지 남기게 되네요 참고로 남자고요 남자들 이렇게 귀찮게 글잘안쓰는데 글도 남겨봅니다 너무맘에 들어서 여튼 좋은하루되세요\\n              \\n\\n            ']"
      ]
     },
     "execution_count": 132,
     "metadata": {},
     "output_type": "execute_result"
    }
   ],
   "source": [
    "comment_list"
   ]
  },
  {
   "cell_type": "code",
   "execution_count": null,
   "metadata": {},
   "outputs": [],
   "source": []
  }
 ],
 "metadata": {
  "kernelspec": {
   "display_name": "Python 3",
   "language": "python",
   "name": "python3"
  },
  "language_info": {
   "codemirror_mode": {
    "name": "ipython",
    "version": 3
   },
   "file_extension": ".py",
   "mimetype": "text/x-python",
   "name": "python",
   "nbconvert_exporter": "python",
   "pygments_lexer": "ipython3",
   "version": "3.6.4"
  }
 },
 "nbformat": 4,
 "nbformat_minor": 2
}
