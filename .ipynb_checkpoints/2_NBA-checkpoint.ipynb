{
 "cells": [
  {
   "cell_type": "code",
   "execution_count": 6,
   "metadata": {},
   "outputs": [],
   "source": [
    "from selenium import webdriver\n",
    "import pandas as pd"
   ]
  },
  {
   "cell_type": "code",
   "execution_count": 15,
   "metadata": {},
   "outputs": [
    {
     "ename": "TypeError",
     "evalue": "'WebElement' object does not support indexing",
     "output_type": "error",
     "traceback": [
      "\u001b[0;31m---------------------------------------------------------------------------\u001b[0m",
      "\u001b[0;31mTypeError\u001b[0m                                 Traceback (most recent call last)",
      "\u001b[0;32m<ipython-input-15-04366960b790>\u001b[0m in \u001b[0;36m<module>\u001b[0;34m()\u001b[0m\n\u001b[1;32m      9\u001b[0m \u001b[0;34m\u001b[0m\u001b[0m\n\u001b[1;32m     10\u001b[0m \u001b[0;32mfor\u001b[0m \u001b[0mi\u001b[0m \u001b[0;32min\u001b[0m \u001b[0mrange\u001b[0m\u001b[0;34m(\u001b[0m\u001b[0;36m30\u001b[0m\u001b[0;34m)\u001b[0m\u001b[0;34m:\u001b[0m\u001b[0;34m\u001b[0m\u001b[0m\n\u001b[0;32m---> 11\u001b[0;31m     \u001b[0mPosition\u001b[0m \u001b[0;34m=\u001b[0m \u001b[0mtable\u001b[0m\u001b[0;34m[\u001b[0m\u001b[0mi\u001b[0m\u001b[0;34m]\u001b[0m\u001b[0;34m.\u001b[0m\u001b[0mfind_elements_by_css_selector\u001b[0m\u001b[0;34m(\u001b[0m\u001b[0;34m'tr>td'\u001b[0m\u001b[0;34m)\u001b[0m\u001b[0;34m[\u001b[0m\u001b[0;36m0\u001b[0m\u001b[0;34m]\u001b[0m\u001b[0;34m.\u001b[0m\u001b[0mtext\u001b[0m\u001b[0;34m\u001b[0m\u001b[0m\n\u001b[0m\u001b[1;32m     12\u001b[0m     \u001b[0mTeam\u001b[0m \u001b[0;34m=\u001b[0m \u001b[0mtable\u001b[0m\u001b[0;34m[\u001b[0m\u001b[0mi\u001b[0m\u001b[0;34m]\u001b[0m\u001b[0;34m.\u001b[0m\u001b[0mfind_elements_by_css_selector\u001b[0m\u001b[0;34m(\u001b[0m\u001b[0;34m'td>a'\u001b[0m\u001b[0;34m)\u001b[0m\u001b[0;34m[\u001b[0m\u001b[0;36m0\u001b[0m\u001b[0;34m]\u001b[0m\u001b[0;34m.\u001b[0m\u001b[0mtext\u001b[0m\u001b[0;34m\u001b[0m\u001b[0m\n\u001b[1;32m     13\u001b[0m     \u001b[0mGP\u001b[0m \u001b[0;34m=\u001b[0m \u001b[0mtable\u001b[0m\u001b[0;34m[\u001b[0m\u001b[0mi\u001b[0m\u001b[0;34m]\u001b[0m\u001b[0;34m.\u001b[0m\u001b[0mfind_elements_by_css_selector\u001b[0m\u001b[0;34m(\u001b[0m\u001b[0;34m'td'\u001b[0m\u001b[0;34m)\u001b[0m\u001b[0;34m[\u001b[0m\u001b[0;36m2\u001b[0m\u001b[0;34m]\u001b[0m\u001b[0;34m.\u001b[0m\u001b[0mtext\u001b[0m\u001b[0;34m\u001b[0m\u001b[0m\n",
      "\u001b[0;31mTypeError\u001b[0m: 'WebElement' object does not support indexing"
     ]
    }
   ],
   "source": [
    "driver = webdriver.Chrome()\n",
    "driver.get('http://stats.nba.com/teams/traditional/?sort=PTS&dir=-1')\n",
    "\n",
    "table = driver.find_element_by_css_selector('.nba-stat-table__overflow')\n",
    "\n",
    "df = pd.DataFrame(columns=[\"Position\", \"Team\", \"GP\", \"W\", \"L\", \"WIN_P\", \"MIN\", \"PTS\", \"FGM\", \"FGA\", \"FG_P\",\n",
    "                          \"THREEPM\", \"THREEPA\", \"THREEP_P\", \"FTM\", \"FTA\", \"FT%\", \"OREB\", \"DREB\", \"REB\", \"AST\", \"TOV\",\n",
    "                          \"STL\", \"BLK\", \"BLKA\", \"PF\", \"PFD\", \"PLUSMINUS\"])\n",
    "\n",
    "for i in range(30):\n",
    "    Position = table[i].find_elements_by_css_selector('tr>td')[0].text\n",
    "    Team = table[i].find_elements_by_css_selector('td>a')[0].text\n",
    "    GP = table[i].find_elements_by_css_selector('td')[2].text\n",
    "    W = table[i].find_elements_by_css_selector('td')[3].text\n",
    "    L = table[i].find_elements_by_css_selector('td')[4].text\n",
    "    WIN_P = table[i].find_elements_by_css_selector('td')[5].text\n",
    "    MIN = table[i].find_elements_by_css_selector('td')[6].text\n",
    "    PTS = table[i].find_elements_by_css_selector('td>#sorted')[0].text\n",
    "    FGM = table[i].find_elements_by_css_selector('td>a')[1].text\n",
    "    FGA = table[i].find_elements_by_css_selector('td>a')[2].text\n",
    "    FG_P = table[i].find_elements_by_css_selector('td')[10].text\n",
    "    THREE_PM = table[i].find_elements_by_css_selector('td>a')[3].text\n",
    "    THREE_PA = table[i].find_elements_by_css_selector('td>a')[4].text\n",
    "    THREEP_P = table[i].find_elements_by_css_selector('td')[13].text\n",
    "    FTM = table[i].find_elements_by_css_selector('td')[14].text\n",
    "    FTA = table[i].find_elements_by_css_selector('td')[15].text\n",
    "    FT_P = table[i].find_elements_by_css_selector('td')[16].text\n",
    "    OREB = table[i].find_elements_by_css_selector('td>a')[5].text\n",
    "    DREB = table[i].find_elements_by_css_selector('td>a')[6].text\n",
    "    REB =  table[i].find_elements_by_css_selector('td>a')[7].text\n",
    "    AST = table[i].find_elements_by_css_selector('td>a')[8].text\n",
    "    TOV = table[i].find_elements_by_css_selector('td>a')[9].text\n",
    "    STL = table[i].find_elements_by_css_selector('td>a')[10].text\n",
    "    BLK = table[i].find_elements_by_css_selector('td>a')[11].text\n",
    "    BLKA = table[i].find_elements_by_css_selector('td>a')[12].text\n",
    "    PF = table[i].find_elements_by_css_selector('td')[25].text\n",
    "    PFD = table[i].find_elements_by_css_selector('td')[26].text\n",
    "    PLUSMINUS = table[i].find_elements_by_css_selector('td')[27].text\n",
    "    \n",
    "    data = {\"Position\": Position,\n",
    "            \"Team\": Team,\n",
    "            \"GP\": GP,\n",
    "            \"W\": W,\n",
    "            \"L\": L,\n",
    "            \"WIN_P\": WIN_P,\n",
    "            \"MIN\": MIN,\n",
    "            \"PTS\": PTS,\n",
    "            \"FGM\": FGM,\n",
    "            \"FGA\": FGA,\n",
    "            \"FG_P\": FG_P,\n",
    "            \"THREE_PM\": THREEPM,\n",
    "            \"THREE_PA\": THREEPA,\n",
    "            \"THREEP_P\": THREEP_P,\n",
    "            \"FTM\": FTM,\n",
    "            \"FTA\": FTAD,\n",
    "            \"FT_P\": FT_P,\n",
    "            \"OREB\": OREB,\n",
    "            \"DREB\": DREB,\n",
    "            \"REB\": REB,\n",
    "            \"AST\": AST,\n",
    "            \"TOV\": TOV,\n",
    "            \"STL\": STL,\n",
    "            \"BLK\": BLK,\n",
    "            \"BLKA\": BLKA,\n",
    "            \"PF\": PF,\n",
    "            \"PFD\": PFD,\n",
    "            \"PLUSMINUS\": PLUSMINUS}\n",
    "    \n",
    "    df.loc[len(df)] = data\n",
    "        \n",
    "    driver.close\n",
    "\n",
    "df"
   ]
  },
  {
   "cell_type": "code",
   "execution_count": null,
   "metadata": {},
   "outputs": [],
   "source": []
  }
 ],
 "metadata": {
  "kernelspec": {
   "display_name": "Python 3",
   "language": "python",
   "name": "python3"
  },
  "language_info": {
   "codemirror_mode": {
    "name": "ipython",
    "version": 3
   },
   "file_extension": ".py",
   "mimetype": "text/x-python",
   "name": "python",
   "nbconvert_exporter": "python",
   "pygments_lexer": "ipython3",
   "version": "3.6.3"
  }
 },
 "nbformat": 4,
 "nbformat_minor": 2
}
