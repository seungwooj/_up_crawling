{
 "cells": [
  {
   "cell_type": "code",
   "execution_count": 22,
   "metadata": {},
   "outputs": [
    {
     "name": "stdout",
     "output_type": "stream",
     "text": [
      "1\n"
     ]
    }
   ],
   "source": [
    "import requests\n",
    "\n",
    "id_list = []\n",
    "age_list = []\n",
    "comment_list = []\n",
    "\n",
    "for page in range(1,2): #총 게시물 현재 8,615개 -> 여유있게 10000개까지\n",
    "    \n",
    "\n",
    "\n",
    "    url = \"http://widgets4.cre.ma/bodyluv.kr/products/reviews?product_code=52&iframe_id=crema-product-reviews-2&app=0&parent_url=http%3A%2F%2Fwww.bodyluv.kr%2Fproduct%2F%25EB%25A7%2588%25EC%2595%25BD%25EB%25A7%25A4%25ED%258A%25B8%25EB%25A6%25AC%25EC%258A%25A4%2F52%2Fcategory%2F25%2Fdisplay%2F1%2F%3Fcrema-product-reviews-2-page%3D2&page=\" + str(page) + \"&iframe=1\"\n",
    "    \n",
    "    print(page)\n",
    "    \n",
    "    text = requests.get(url).text\n",
    "\n",
    "    id_r = text.split(\"<li class=\\\"comment\\\"\"+\" id=\\\"comment_\")\n",
    "    r = text.split(\"<div class=\\\"products_reviews_list_review__message\\\">\")\n",
    "    \n",
    "    if len(r)==0:\n",
    "        break\n",
    "        \n",
    "    for x in id_r[1:]:\n",
    "        \n",
    "        id = x.split(\">\"+\"\\n  \"+\"<div class=\\\"comment__inner\\\">\\n\")[0]\n",
    "        id_list.append(id)\n",
    "        \n",
    "    for y in r[1:]:\n",
    "        \n",
    "        \n",
    "        if \"<div class=\\\"products_reviews_list_review__message_content\\\">\" in y:\n",
    "            \n",
    "            comment= c.split(\"<div class=\\\"products_reviews_list_review__message_content\\\">\")[1].split(\"</div>\")[0]\n",
    "            \n",
    "            if \"연령대</div>\" in y:\n",
    "                age = c.split(\"연령대</div>\")[1].split(\"</div>\")[0].replace(\"<div class=\\\"review_option__content\\\">\", \"\")\n",
    "            else:\n",
    "                age = \"None\"\n",
    "                \n",
    "                age_list.append(age)\n",
    "\n",
    "        \n",
    "        else:\n",
    "            pass\n",
    "        \n",
    "        age_list.append(age)\n",
    "        comment_list.append(comment)\n"
   ]
  },
  {
   "cell_type": "code",
   "execution_count": 23,
   "metadata": {},
   "outputs": [
    {
     "data": {
      "text/plain": [
       "['93243\"', '87547\"', '93474\"', '82229\"', '82224\"']"
      ]
     },
     "execution_count": 23,
     "metadata": {},
     "output_type": "execute_result"
    }
   ],
   "source": [
    "id_list"
   ]
  },
  {
   "cell_type": "code",
   "execution_count": 24,
   "metadata": {},
   "outputs": [
    {
     "data": {
      "text/plain": [
       "['\\n        30대',\n",
       " 'None',\n",
       " 'None',\n",
       " 'None',\n",
       " '\\n        30대',\n",
       " '\\n        30대',\n",
       " 'None',\n",
       " 'None',\n",
       " 'None',\n",
       " '\\n        30대',\n",
       " '\\n        30대',\n",
       " '\\n        30대']"
      ]
     },
     "execution_count": 24,
     "metadata": {},
     "output_type": "execute_result"
    }
   ],
   "source": [
    "age_list"
   ]
  },
  {
   "cell_type": "code",
   "execution_count": 25,
   "metadata": {},
   "outputs": [
    {
     "data": {
      "text/plain": [
       "['\\n              전 만족해요 일단 배송 빠르고 매트리스 커버 부드럽구요<br>누웠을때보단 엎드렸을때 배를 삭 감싸주는 느낌이 들어서 좋네요\\n              \\n\\n            ',\n",
       " '\\n              전 만족해요 일단 배송 빠르고 매트리스 커버 부드럽구요<br>누웠을때보단 엎드렸을때 배를 삭 감싸주는 느낌이 들어서 좋네요\\n              \\n\\n            ',\n",
       " '\\n              전 만족해요 일단 배송 빠르고 매트리스 커버 부드럽구요<br>누웠을때보단 엎드렸을때 배를 삭 감싸주는 느낌이 들어서 좋네요\\n              \\n\\n            ',\n",
       " '\\n              전 만족해요 일단 배송 빠르고 매트리스 커버 부드럽구요<br>누웠을때보단 엎드렸을때 배를 삭 감싸주는 느낌이 들어서 좋네요\\n              \\n\\n            ',\n",
       " '\\n              전 만족해요 일단 배송 빠르고 매트리스 커버 부드럽구요<br>누웠을때보단 엎드렸을때 배를 삭 감싸주는 느낌이 들어서 좋네요\\n              \\n\\n            ',\n",
       " '\\n              전 만족해요 일단 배송 빠르고 매트리스 커버 부드럽구요<br>누웠을때보단 엎드렸을때 배를 삭 감싸주는 느낌이 들어서 좋네요\\n              \\n\\n            ',\n",
       " '\\n              전 만족해요 일단 배송 빠르고 매트리스 커버 부드럽구요<br>누웠을때보단 엎드렸을때 배를 삭 감싸주는 느낌이 들어서 좋네요\\n              \\n\\n            ',\n",
       " '\\n              전 만족해요 일단 배송 빠르고 매트리스 커버 부드럽구요<br>누웠을때보단 엎드렸을때 배를 삭 감싸주는 느낌이 들어서 좋네요\\n              \\n\\n            ',\n",
       " '\\n              전 만족해요 일단 배송 빠르고 매트리스 커버 부드럽구요<br>누웠을때보단 엎드렸을때 배를 삭 감싸주는 느낌이 들어서 좋네요\\n              \\n\\n            ',\n",
       " '\\n              전 만족해요 일단 배송 빠르고 매트리스 커버 부드럽구요<br>누웠을때보단 엎드렸을때 배를 삭 감싸주는 느낌이 들어서 좋네요\\n              \\n\\n            ']"
      ]
     },
     "execution_count": 25,
     "metadata": {},
     "output_type": "execute_result"
    }
   ],
   "source": [
    "comment_list"
   ]
  },
  {
   "cell_type": "code",
   "execution_count": null,
   "metadata": {},
   "outputs": [],
   "source": []
  },
  {
   "cell_type": "code",
   "execution_count": null,
   "metadata": {},
   "outputs": [],
   "source": []
  },
  {
   "cell_type": "code",
   "execution_count": null,
   "metadata": {},
   "outputs": [],
   "source": []
  }
 ],
 "metadata": {
  "kernelspec": {
   "display_name": "Python 3",
   "language": "python",
   "name": "python3"
  },
  "language_info": {
   "codemirror_mode": {
    "name": "ipython",
    "version": 3
   },
   "file_extension": ".py",
   "mimetype": "text/x-python",
   "name": "python",
   "nbconvert_exporter": "python",
   "pygments_lexer": "ipython3",
   "version": "3.6.4"
  }
 },
 "nbformat": 4,
 "nbformat_minor": 2
}
