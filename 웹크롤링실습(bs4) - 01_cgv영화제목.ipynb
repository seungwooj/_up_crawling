{
 "cells": [
  {
   "cell_type": "code",
   "execution_count": null,
   "metadata": {},
   "outputs": [],
   "source": [
    "# CGV 무비차트 가져오기"
   ]
  },
  {
   "cell_type": "code",
   "execution_count": 1,
   "metadata": {},
   "outputs": [],
   "source": [
    "import requests\n",
    "from bs4 import BeautifulSoup"
   ]
  },
  {
   "cell_type": "code",
   "execution_count": 42,
   "metadata": {
    "scrolled": true
   },
   "outputs": [
    {
     "name": "stdout",
     "output_type": "stream",
     "text": [
      "램페이지\n",
      "레디 플레이어 원\n",
      "콰이어트 플레이스\n",
      "라이프 오브 파이\n",
      "곤지암\n",
      "바람 바람 바람\n",
      "그날, 바다\n",
      "end\n"
     ]
    }
   ],
   "source": [
    "r = requests.get(\"http://www.cgv.co.kr/movies/?ft=0\")\n",
    "c = r.content\n",
    "\n",
    "#전체 구조 : ol -> li -> div, class:box-content -> strong 안에 영화제목(text)\n",
    "html = BeautifulSoup(c, \"html.parser\")\n",
    "\n",
    "ol = html.find_all(\"ol\")\n",
    "\n",
    "#try & expect 사용 : 마지막의 strong 안에 text까지 가져온 후 error 방지\n",
    "\n",
    "try:\n",
    "    \n",
    "    for ol in ol:\n",
    "        li = ol.find_all(\"li\")\n",
    "\n",
    "        for l in li:\n",
    "            div = l.find(\"div\",{\"class\" : \"box-contents\"})\n",
    "    \n",
    "            strong = div.find(\"strong\").text\n",
    "            print(strong)\n",
    "        \n",
    "except:\n",
    "    print(\"end\")"
   ]
  },
  {
   "cell_type": "code",
   "execution_count": null,
   "metadata": {},
   "outputs": [],
   "source": []
  }
 ],
 "metadata": {
  "kernelspec": {
   "display_name": "Python 3",
   "language": "python",
   "name": "python3"
  },
  "language_info": {
   "codemirror_mode": {
    "name": "ipython",
    "version": 3
   },
   "file_extension": ".py",
   "mimetype": "text/x-python",
   "name": "python",
   "nbconvert_exporter": "python",
   "pygments_lexer": "ipython3",
   "version": "3.6.3"
  }
 },
 "nbformat": 4,
 "nbformat_minor": 2
}
