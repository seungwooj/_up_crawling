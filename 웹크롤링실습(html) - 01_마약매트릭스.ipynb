{
 "cells": [
  {
   "cell_type": "code",
   "execution_count": 1,
   "metadata": {},
   "outputs": [
    {
     "name": "stdout",
     "output_type": "stream",
     "text": [
      "\n",
      "              전 만족해요 일단 배송 빠르고 매트리스 커버 부드럽구요<br>누웠을때보단 엎드렸을때 배를 삭 감싸주는 느낌이 들어서 좋네요\n",
      "              \n",
      "\n",
      "            \n"
     ]
    }
   ],
   "source": [
    "import requests\n",
    "\n",
    "url = \"http://widgets4.cre.ma/bodyluv.kr/products/reviews?product_code=52&iframe_id=crema-product-reviews-2&app=0&parent_url=http%3A%2F%2Fwww.bodyluv.kr%2Fproduct%2F%25EB%25A7%2588%25EC%2595%25BD%25EB%25A7%25A4%25ED%258A%25B8%25EB%25A6%25AC%25EC%258A%25A4%2F52%2Fcategory%2F25%2Fdisplay%2F1%2F%3Fcrema-product-reviews-2-page%3D2&page=2&iframe=1\"\n",
    "\n",
    "r = requests.get(url).text.split(\"<div class=\\\"products_reviews_list_review__message_content\\\">\")[1:]\n",
    "for c in r:\n",
    "    comment1 = c.split(\"</div>\")[0]\n",
    "print(comment1)"
   ]
  },
  {
   "cell_type": "code",
   "execution_count": 3,
   "metadata": {},
   "outputs": [
    {
     "name": "stdout",
     "output_type": "stream",
     "text": [
      "\n",
      "              전 만족해요 일단 배송 빠르고 매트리스 커버 부드럽구요<br>누웠을때보단 엎드렸을때 배를 삭 감싸주는 느낌이 들어서 좋네요\n",
      "              \n",
      "\n",
      "            \n"
     ]
    }
   ],
   "source": [
    "r = requests.get(url).text.split(\"<div class=\\\"products_reviews_list_review__message_content\\\">\")[2:]\n",
    "\n",
    "for c in r:\n",
    "    comment2 = c.split(\"</div>\")[0]\n",
    "print(comment2)"
   ]
  },
  {
   "cell_type": "code",
   "execution_count": null,
   "metadata": {},
   "outputs": [],
   "source": []
  }
 ],
 "metadata": {
  "kernelspec": {
   "display_name": "Python 3",
   "language": "python",
   "name": "python3"
  },
  "language_info": {
   "codemirror_mode": {
    "name": "ipython",
    "version": 3
   },
   "file_extension": ".py",
   "mimetype": "text/x-python",
   "name": "python",
   "nbconvert_exporter": "python",
   "pygments_lexer": "ipython3",
   "version": "3.6.4"
  }
 },
 "nbformat": 4,
 "nbformat_minor": 2
}
