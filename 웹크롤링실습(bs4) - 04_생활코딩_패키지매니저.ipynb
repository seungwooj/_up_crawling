{
 "cells": [
  {
   "cell_type": "code",
   "execution_count": null,
   "metadata": {},
   "outputs": [],
   "source": [
    "##### Simple Coding : html활용 + bs4"
   ]
  },
  {
   "cell_type": "code",
   "execution_count": 19,
   "metadata": {},
   "outputs": [
    {
     "name": "stdout",
     "output_type": "stream",
     "text": [
      "Title : sample1\n",
      "articles : important information 1\n",
      "====================================\n",
      "Title : sample2\n",
      "articles : important information 2\n"
     ]
    }
   ],
   "source": [
    "import requests\n",
    "from bs4 import BeautifulSoup\n",
    "\n",
    "r = requests.get('https://codingeverybody.github.io/scraping_sample/1.html')\n",
    "soup = BeautifulSoup(r.text, 'html.parser')\n",
    "\n",
    "print('Title : '+soup.title.string)\n",
    "\n",
    "articles = soup.findAll('div', {'class' : 'em'})\n",
    "print('articles : '+articles[0].text)\n",
    "\n",
    "print('====================================')\n",
    "\n",
    "r = requests.get('https://codingeverybody.github.io/scraping_sample/2.html')\n",
    "soup = BeautifulSoup(r.text, 'html.parser')\n",
    "\n",
    "print('Title : '+soup.title.string)\n",
    "\n",
    "articles = soup.findAll('div', {'class' : 'strong'})\n",
    "print('articles : '+articles[0].text)\n"
   ]
  },
  {
   "cell_type": "code",
   "execution_count": null,
   "metadata": {},
   "outputs": [],
   "source": []
  }
 ],
 "metadata": {
  "kernelspec": {
   "display_name": "Python 3",
   "language": "python",
   "name": "python3"
  },
  "language_info": {
   "codemirror_mode": {
    "name": "ipython",
    "version": 3
   },
   "file_extension": ".py",
   "mimetype": "text/x-python",
   "name": "python",
   "nbconvert_exporter": "python",
   "pygments_lexer": "ipython3",
   "version": "3.6.4"
  }
 },
 "nbformat": 4,
 "nbformat_minor": 2
}
