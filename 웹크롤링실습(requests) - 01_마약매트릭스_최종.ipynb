{
 "cells": [
  {
   "cell_type": "code",
   "execution_count": 1,
   "metadata": {},
   "outputs": [],
   "source": [
    "import requests\n",
    "from tqdm import tqdm_notebook"
   ]
  },
  {
   "cell_type": "code",
   "execution_count": 2,
   "metadata": {},
   "outputs": [
    {
     "data": {
      "application/vnd.jupyter.widget-view+json": {
       "model_id": "2ff131fd874343ae85a47683f8b8afd1",
       "version_major": 2,
       "version_minor": 0
      },
      "text/plain": [
       "HBox(children=(IntProgress(value=0, max=1999), HTML(value='')))"
      ]
     },
     "metadata": {},
     "output_type": "display_data"
    },
    {
     "name": "stdout",
     "output_type": "stream",
     "text": [
      "CPU times: user 11.5 s, sys: 1.35 s, total: 12.9 s\n",
      "Wall time: 27min 4s\n"
     ]
    }
   ],
   "source": [
    "%%time\n",
    "\n",
    "#id / age / comment / rate리스트 선언\n",
    "id_list = [] #댓글별 id번호\n",
    "age_list = [] #연령대\n",
    "comment_list = [] #댓글내용\n",
    "rate_list = [] #평점\n",
    "review_total_list = [] #리뷰에 대한 피드백 전체\n",
    "review_likes_list = [] #리뷰를 좋아한 피드백\n",
    "\n",
    "\n",
    "for page in tqdm_notebook(range(1,2000)): #총 게시물 현재 8,615개 -> 여유있게 10000개까지\n",
    "\n",
    "    url = \"http://widgets4.cre.ma/bodyluv.kr/products/reviews?product_code=52&iframe_id=crema-product-reviews-2&app=0&parent_url=http%3A%2F%2Fwww.bodyluv.kr%2Fproduct%2F%25EB%25A7%2588%25EC%2595%25BD%25EB%25A7%25A4%25ED%258A%25B8%25EB%25A6%25AC%25EC%258A%25A4%2F52%2Fcategory%2F25%2Fdisplay%2F1%2F%3Fcrema-product-reviews-2-page%3D2&page=\" + str(page) + \"&iframe=1\"\n",
    "    \n",
    "\n",
    "    text = requests.get(url).text\n",
    "    \n",
    "    \n",
    "    id_r = text.split(\"<li\\n  id=\") #id는 별도로 가지고 있음.\n",
    "    \n",
    "    r = text.split(\"<div class=\\\"products_reviews_list_review__message\\\">\") #age, comment 둘다 가지고 있는 html\n",
    "    \n",
    "    rate_r = text.split(\"<div class=\\\"products_reviews_list_review__score_text_rating\\\">\")\n",
    "    \n",
    "    review_r = text.split(\"<div class=\\\"products_reviews_list_review__score\\\">\")\n",
    "        \n",
    "    if len(r) == 1:\n",
    "        break\n",
    "        \n",
    "        \n",
    "    for x in id_r[1:]:\n",
    "        \n",
    "        id = x.split(\"\\n\")[0]\n",
    "        id = id.replace('review_', \"\").replace('\"',\"\")\n",
    "        id_list.append(id)\n",
    "        \n",
    "    for y in r[1:]:\n",
    "        \n",
    "        if \"<div class=\\\"products_reviews_list_review__message_content\\\">\" in y:\n",
    "            \n",
    "            comment = y.split(\"<div class=\\\"products_reviews_list_review__message_content\\\">\")[1].split(\"\\n\\n            </div>\")[0]\n",
    "            comment = comment.replace(\"\\n              \", \"\").replace(\"<br>\", \" \")\n",
    "            \n",
    "            if \"연령대</div>\" in y:\n",
    "                age = y.split(\"연령대</div>\")[1].split(\"</div>\")[0]\n",
    "                age = age.replace(\"<div class=\\\"review_option__content\\\">\", \"\").replace(\"\\n        \",\"\")\n",
    "            else:\n",
    "                age = \"None\"\n",
    "            \n",
    "            age_list.append(age)\n",
    "            comment_list.append(comment)\n",
    "            \n",
    "        else:\n",
    "            pass\n",
    "    \n",
    "    for z in rate_r[1:]:\n",
    "        \n",
    "        rate = z.split(\"</div>\")[0]\n",
    "        rate = rate.replace('- ', \"\")\n",
    "        rate_list.append(rate)\n",
    "        \n",
    "    for k in review_r[1:]:\n",
    "        \n",
    "        #if문이 없어도 아래의 split의 text가 없으면 0을 출력   \n",
    "        review_total = k.split(\"<strong class=\\'js-like-score-total\\'>\")[1].split(\"</strong>\")[0]\n",
    "        review_likes = k.split(\"<strong class=\\'js-like-score-plus\\'>\")[1].split(\"</strong>\")[0]\n",
    "\n",
    "        review_total_list.append(review_total)\n",
    "        review_likes_list.append(review_likes)\n"
   ]
  },
  {
   "cell_type": "code",
   "execution_count": 3,
   "metadata": {},
   "outputs": [
    {
     "name": "stdout",
     "output_type": "stream",
     "text": [
      "8468 8468 8468 8468 8468 8468\n"
     ]
    }
   ],
   "source": [
    "print(len(id_list), len(age_list), len(comment_list), len(rate_list), len(review_total_list), len(review_likes_list))  # 전체 데이터 길이 확인."
   ]
  },
  {
   "cell_type": "code",
   "execution_count": null,
   "metadata": {},
   "outputs": [],
   "source": []
  },
  {
   "cell_type": "code",
   "execution_count": 4,
   "metadata": {},
   "outputs": [],
   "source": [
    "#데이터 프레임 작성"
   ]
  },
  {
   "cell_type": "code",
   "execution_count": 5,
   "metadata": {},
   "outputs": [],
   "source": [
    "data = {'id': id_list,\n",
    "        'age': age_list,\n",
    "        'rate' : rate_list,\n",
    "        'review_total' : review_total_list,\n",
    "        'review_likes' : review_likes_list,\n",
    "        'comment': comment_list}"
   ]
  },
  {
   "cell_type": "code",
   "execution_count": 6,
   "metadata": {},
   "outputs": [
    {
     "data": {
      "text/html": [
       "<div>\n",
       "<style scoped>\n",
       "    .dataframe tbody tr th:only-of-type {\n",
       "        vertical-align: middle;\n",
       "    }\n",
       "\n",
       "    .dataframe tbody tr th {\n",
       "        vertical-align: top;\n",
       "    }\n",
       "\n",
       "    .dataframe thead th {\n",
       "        text-align: right;\n",
       "    }\n",
       "</style>\n",
       "<table border=\"1\" class=\"dataframe\">\n",
       "  <thead>\n",
       "    <tr style=\"text-align: right;\">\n",
       "      <th></th>\n",
       "      <th>id</th>\n",
       "      <th>age</th>\n",
       "      <th>rate</th>\n",
       "      <th>review_total</th>\n",
       "      <th>review_likes</th>\n",
       "      <th>comment</th>\n",
       "    </tr>\n",
       "  </thead>\n",
       "  <tbody>\n",
       "    <tr>\n",
       "      <th>8463</th>\n",
       "      <td>62933</td>\n",
       "      <td>None</td>\n",
       "      <td>아주 좋아요</td>\n",
       "      <td>1</td>\n",
       "      <td>0</td>\n",
       "      <td>불만족 별루에서 다 눌려서오고 비추  (2018-03-04 11:28:12 에 등록...</td>\n",
       "    </tr>\n",
       "    <tr>\n",
       "      <th>8464</th>\n",
       "      <td>62876</td>\n",
       "      <td>30대</td>\n",
       "      <td>그냥 그래요</td>\n",
       "      <td>1</td>\n",
       "      <td>0</td>\n",
       "      <td>솔직히.. 과대 광고네요</td>\n",
       "    </tr>\n",
       "    <tr>\n",
       "      <th>8465</th>\n",
       "      <td>60546</td>\n",
       "      <td>None</td>\n",
       "      <td>아주 좋아요</td>\n",
       "      <td>1</td>\n",
       "      <td>0</td>\n",
       "      <td>보통 방수 커버 씌우다 죽는줄 ㅋㅋㅋㅋ 커버 원단과 매트 제질이 상극 이네요  (2...</td>\n",
       "    </tr>\n",
       "    <tr>\n",
       "      <th>8466</th>\n",
       "      <td>60547</td>\n",
       "      <td>None</td>\n",
       "      <td>아주 좋아요</td>\n",
       "      <td>1</td>\n",
       "      <td>0</td>\n",
       "      <td>보통 냄새가 너무 심해요. 진짜 너무 심함 그리고 되게 잘 찢어지네요 조심들 하세요...</td>\n",
       "    </tr>\n",
       "    <tr>\n",
       "      <th>8467</th>\n",
       "      <td>57991</td>\n",
       "      <td>None</td>\n",
       "      <td>아주 좋아요</td>\n",
       "      <td>1</td>\n",
       "      <td>0</td>\n",
       "      <td>불만족 처음 꺼낼때 냄새가심함, 지버분함,모서리는 눌려온게 복구가안됨0  (2018...</td>\n",
       "    </tr>\n",
       "  </tbody>\n",
       "</table>\n",
       "</div>"
      ],
      "text/plain": [
       "         id   age    rate review_total review_likes  \\\n",
       "8463  62933  None  아주 좋아요            1            0   \n",
       "8464  62876   30대  그냥 그래요            1            0   \n",
       "8465  60546  None  아주 좋아요            1            0   \n",
       "8466  60547  None  아주 좋아요            1            0   \n",
       "8467  57991  None  아주 좋아요            1            0   \n",
       "\n",
       "                                                comment  \n",
       "8463  불만족 별루에서 다 눌려서오고 비추  (2018-03-04 11:28:12 에 등록...  \n",
       "8464                                      솔직히.. 과대 광고네요  \n",
       "8465  보통 방수 커버 씌우다 죽는줄 ㅋㅋㅋㅋ 커버 원단과 매트 제질이 상극 이네요  (2...  \n",
       "8466  보통 냄새가 너무 심해요. 진짜 너무 심함 그리고 되게 잘 찢어지네요 조심들 하세요...  \n",
       "8467  불만족 처음 꺼낼때 냄새가심함, 지버분함,모서리는 눌려온게 복구가안됨0  (2018...  "
      ]
     },
     "execution_count": 6,
     "metadata": {},
     "output_type": "execute_result"
    }
   ],
   "source": [
    "df = pd.DataFrame(data, columns=[\"id\", \"age\", \"rate\", \"review_total\", \"review_likes\", \"comment\"])\n",
    "df.tail()"
   ]
  },
  {
   "cell_type": "code",
   "execution_count": 8,
   "metadata": {},
   "outputs": [
    {
     "data": {
      "text/plain": [
       "(8468, 6)"
      ]
     },
     "execution_count": 8,
     "metadata": {},
     "output_type": "execute_result"
    }
   ],
   "source": [
    "df.shape"
   ]
  },
  {
   "cell_type": "code",
   "execution_count": 9,
   "metadata": {},
   "outputs": [],
   "source": [
    "df.to_csv('mattress_result')"
   ]
  },
  {
   "cell_type": "code",
   "execution_count": null,
   "metadata": {},
   "outputs": [],
   "source": []
  }
 ],
 "metadata": {
  "kernelspec": {
   "display_name": "Python 3",
   "language": "python",
   "name": "python3"
  },
  "language_info": {
   "codemirror_mode": {
    "name": "ipython",
    "version": 3
   },
   "file_extension": ".py",
   "mimetype": "text/x-python",
   "name": "python",
   "nbconvert_exporter": "python",
   "pygments_lexer": "ipython3",
   "version": "3.6.4"
  }
 },
 "nbformat": 4,
 "nbformat_minor": 2
}
