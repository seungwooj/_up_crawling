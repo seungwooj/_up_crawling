{
 "cells": [
  {
   "cell_type": "code",
   "execution_count": 7,
   "metadata": {},
   "outputs": [],
   "source": [
    "import requests\n",
    "import time\n",
    "from bs4 import BeautifulSoup"
   ]
  },
  {
   "cell_type": "markdown",
   "metadata": {},
   "source": [
    "##### 네이버 주식 데이터 가져오기\n",
    "- api 사용 : json 파싱을 한다.\n",
    "- 네이버 주식 페이지에서 주식 데이터를 가져와 데이터 프레임으로 만들기\n",
    "- http://m.stock.naver.com\n",
    "\n",
    "<순서><br>\n",
    "1. make_url : 주식 데이터를 가져올 페이지에서 개발자도구 - XHR - Headers에서 url따오기 (pagesize, page는 함수의 인수로 넣어준다.)\n",
    "2. get_data : url을 한번 클릭해보면 전체 json형식이 나옴 (XHR - Preview에서 구조 파악 가능)\n",
    "- response : request로 url을 string으로 받아옴\n",
    "- json_info : response에서 string을 json형태로 변경\n",
    "- 이후 json의 구조를 파악해서 원하는 정보가 있는 json을 인수로 지정, dataframe만들기"
   ]
  },
  {
   "cell_type": "code",
   "execution_count": 8,
   "metadata": {},
   "outputs": [],
   "source": [
    "def make_url(pageSize=10, page=1):\n",
    "    return \"http://m.stock.naver.com/api/json/sise/siseListJson.nhn?menu=market_sum&sosok=0&pageSize=\" + str(pageSize) + \"&page=\" + str(page)\n",
    "\n",
    "  \n",
    "def get_data(url):\n",
    "    response = requests.get(url)\n",
    "    json_info = response.json()   # <- url을 string -> json형태로 변경해서 날림\n",
    "    companys = json_info[\"result\"][\"itemList\"]\n",
    "    df = pd.DataFrame(columns=[\"종목\", \"시세\", \"전일비\", \"등락율\", \"시가총액\", \"거래량\"])\n",
    "    for company in companys:\n",
    "        df.loc[len(df)] = {\n",
    "            \"종목\":company[\"nm\"],\n",
    "            \"시세\":company[\"nv\"],\n",
    "            \"전일비\":company[\"cv\"],\n",
    "            \"등락율\":company[\"cr\"],\n",
    "            \"시가총액\":company[\"mks\"],\n",
    "            \"거래량\":company[\"aq\"],\n",
    "        }\n",
    "    return df"
   ]
  },
  {
   "cell_type": "code",
   "execution_count": 9,
   "metadata": {},
   "outputs": [
    {
     "name": "stdout",
     "output_type": "stream",
     "text": [
      "(100, 6)\n"
     ]
    },
    {
     "data": {
      "text/html": [
       "<div>\n",
       "<style scoped>\n",
       "    .dataframe tbody tr th:only-of-type {\n",
       "        vertical-align: middle;\n",
       "    }\n",
       "\n",
       "    .dataframe tbody tr th {\n",
       "        vertical-align: top;\n",
       "    }\n",
       "\n",
       "    .dataframe thead th {\n",
       "        text-align: right;\n",
       "    }\n",
       "</style>\n",
       "<table border=\"1\" class=\"dataframe\">\n",
       "  <thead>\n",
       "    <tr style=\"text-align: right;\">\n",
       "      <th></th>\n",
       "      <th>종목</th>\n",
       "      <th>시세</th>\n",
       "      <th>전일비</th>\n",
       "      <th>등락율</th>\n",
       "      <th>시가총액</th>\n",
       "      <th>거래량</th>\n",
       "    </tr>\n",
       "  </thead>\n",
       "  <tbody>\n",
       "    <tr>\n",
       "      <th>95</th>\n",
       "      <td>쌍용양회</td>\n",
       "      <td>28850</td>\n",
       "      <td>5200</td>\n",
       "      <td>21.99</td>\n",
       "      <td>29073</td>\n",
       "      <td>1191668</td>\n",
       "    </tr>\n",
       "    <tr>\n",
       "      <th>96</th>\n",
       "      <td>대림산업</td>\n",
       "      <td>82800</td>\n",
       "      <td>1100</td>\n",
       "      <td>1.35</td>\n",
       "      <td>28814</td>\n",
       "      <td>241062</td>\n",
       "    </tr>\n",
       "    <tr>\n",
       "      <th>97</th>\n",
       "      <td>팬오션</td>\n",
       "      <td>5360</td>\n",
       "      <td>190</td>\n",
       "      <td>3.68</td>\n",
       "      <td>28651</td>\n",
       "      <td>3064102</td>\n",
       "    </tr>\n",
       "    <tr>\n",
       "      <th>98</th>\n",
       "      <td>한샘</td>\n",
       "      <td>119500</td>\n",
       "      <td>-2500</td>\n",
       "      <td>-2.05</td>\n",
       "      <td>28123</td>\n",
       "      <td>67112</td>\n",
       "    </tr>\n",
       "    <tr>\n",
       "      <th>99</th>\n",
       "      <td>동서</td>\n",
       "      <td>26950</td>\n",
       "      <td>150</td>\n",
       "      <td>0.56</td>\n",
       "      <td>26869</td>\n",
       "      <td>37518</td>\n",
       "    </tr>\n",
       "  </tbody>\n",
       "</table>\n",
       "</div>"
      ],
      "text/plain": [
       "      종목      시세    전일비    등락율   시가총액      거래량\n",
       "95  쌍용양회   28850   5200  21.99  29073  1191668\n",
       "96  대림산업   82800   1100   1.35  28814   241062\n",
       "97   팬오션    5360    190   3.68  28651  3064102\n",
       "98    한샘  119500  -2500  -2.05  28123    67112\n",
       "99    동서   26950    150   0.56  26869    37518"
      ]
     },
     "execution_count": 9,
     "metadata": {},
     "output_type": "execute_result"
    }
   ],
   "source": [
    "url = make_url(100,1)\n",
    "df = get_data(url)\n",
    "print(df.shape)\n",
    "df.tail()"
   ]
  },
  {
   "cell_type": "code",
   "execution_count": null,
   "metadata": {},
   "outputs": [],
   "source": []
  },
  {
   "cell_type": "markdown",
   "metadata": {},
   "source": [
    "##### Dark Sky API\n",
    "- 날씨 정보를 알려주는 api\n",
    "- https://darksky.net/dev\n",
    "- pip3 install python-forecastio\n",
    "\n",
    "\n",
    "<순서><br>\n",
    "1. token입력 : 개인메일로 로그인시 생성되는 token 함수에 입력\n",
    "2. api documentation : format함수로 위도, 경도를 넣어줌. - https://api.darksky.net/forecast/[key]/[latitude],[longitude]\n",
    "3. 이후 response / json_info 통해서 url -> string -> json으로 저장\n",
    "4. json의 형식 에 맞게 정보 입력"
   ]
  },
  {
   "cell_type": "code",
   "execution_count": 4,
   "metadata": {},
   "outputs": [],
   "source": [
    "import forecastio\n",
    "FORECAST_TOKEN = \"aa20c11702caa31ef820aaba4a1f533b\" #개인 메일로 로그인하면 token생성"
   ]
  },
  {
   "cell_type": "code",
   "execution_count": 5,
   "metadata": {},
   "outputs": [],
   "source": [
    "def forecast(lat,lng):\n",
    "    url = \"https://api.darksky.net/forecast/{}/{},{}\".format(FORECAST_TOKEN, lat, lng)\n",
    "    response = requests.get(url)\n",
    "    json_info = response.json()\n",
    "    return json_info[\"hourly\"][\"summary\"] #currently, minutely, hourly, daily, alerts, flags"
   ]
  },
  {
   "cell_type": "code",
   "execution_count": 6,
   "metadata": {},
   "outputs": [
    {
     "data": {
      "text/plain": [
       "'Clear throughout the day.'"
      ]
     },
     "execution_count": 6,
     "metadata": {},
     "output_type": "execute_result"
    }
   ],
   "source": [
    "lat = 37.8267\n",
    "lng = 122.4233\n",
    "forecast(lat,lng)"
   ]
  },
  {
   "cell_type": "code",
   "execution_count": null,
   "metadata": {},
   "outputs": [],
   "source": []
  }
 ],
 "metadata": {
  "kernelspec": {
   "display_name": "Python 3",
   "language": "python",
   "name": "python3"
  },
  "language_info": {
   "codemirror_mode": {
    "name": "ipython",
    "version": 3
   },
   "file_extension": ".py",
   "mimetype": "text/x-python",
   "name": "python",
   "nbconvert_exporter": "python",
   "pygments_lexer": "ipython3",
   "version": "3.6.4"
  }
 },
 "nbformat": 4,
 "nbformat_minor": 2
}
