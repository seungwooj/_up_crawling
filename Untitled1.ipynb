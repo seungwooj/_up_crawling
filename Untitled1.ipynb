{
 "cells": [
  {
   "cell_type": "code",
   "execution_count": 2,
   "metadata": {},
   "outputs": [],
   "source": [
    "import requests\n",
    "\n",
    "age_list = []\n",
    "comment_list = []\n",
    "\n",
    "url = \"http://widgets4.cre.ma/bodyluv.kr/products/reviews?product_code=52&iframe_id=crema-product-reviews-2&app=0&parent_url=http%3A%2F%2Fwww.bodyluv.kr%2Fproduct%2F%25EB%25A7%2588%25EC%2595%25BD%25EB%25A7%25A4%25ED%258A%25B8%25EB%25A6%25AC%25EC%258A%25A4%2F52%2Fcategory%2F25%2Fdisplay%2F1%2F%3Fcrema-product-reviews-2-page%3D2&page=2&iframe=1\"\n",
    "r = requests.get(url).text.split(\"<div class=\\\"products_reviews_list_review__message\\\">\")[1:]\n",
    "\n",
    "for c in r:\n",
    "    if \"<div class=\\\"products_reviews_list_review__message_content\\\">\" in c:\n",
    "        comment = c.split(\"<div class=\\\"products_reviews_list_review__message_content\\\">\")[1].split(\"</div>\")[0]\n",
    "        if \"연령대</div>\" in c:\n",
    "            age = c.split(\"연령대</div>\")[1].split(\"</div>\")[0].replace(\"<div class=\\\"review_option__content\\\">\", \"\")\n",
    "        else:\n",
    "            age = \"None\"\n",
    "        age_list.append(age)\n",
    "        comment_list.append(comment)\n",
    "    else:\n",
    "        pass\n",
    "    "
   ]
  },
  {
   "cell_type": "code",
   "execution_count": 3,
   "metadata": {},
   "outputs": [
    {
     "data": {
      "text/plain": [
       "['\\n        30대', 'None', 'None', 'None', '\\n        30대']"
      ]
     },
     "execution_count": 3,
     "metadata": {},
     "output_type": "execute_result"
    }
   ],
   "source": [
    "age_list"
   ]
  },
  {
   "cell_type": "code",
   "execution_count": 4,
   "metadata": {},
   "outputs": [
    {
     "data": {
      "text/plain": [
       "['\\n              겉커버는 추가로하나 더사길 잘한듯해요ㅎ<br>세탁해서 번갈아 쓰려구요<br>겉커버 밑부분은 미끄러지지말라구 깔판(?)느낌이라 좋아요ㅎ<br>센스굿\\n              \\n\\n            ',\n",
       " '\\n              만족<br>바닥용 퀸사이즈로 샀는데 생각보다 너무 푹신하고 좋습니다~ 쉽게 말아서 보관할수 있도록 찍찍이가 되어있는 부분도 너무 마음에 드네요ㅋ 이틀 되었는데 전보다 더 꿀잠 자는것 같아요ㅋ<br><br>(2018-04-15 22:41:14 에 등록된 네이버 페이 구매평)\\n              \\n\\n            ',\n",
       " '\\n              만족<br>정말 마약매트리스입니다 같이자는 고양이들도 저의 뒤척임에 상관없이 푹 잘 자더군요 물론 저도 다음날 피곤함이 많이 줄었어요..이제 하루 자본건데 이정도면 아주 훌륭하다고 생각합니다<br><br>(2018-04-19 09:55:15 에 등록된 네이버 페이 구매평)\\n              \\n\\n            ',\n",
       " '\\n              만족<br>바닥형 11cm를 주문하여 약 일주일째 사용중입니다! 잠들기전 핸드폰을 보는 시간이 1시간에서 30분으로 줄어들었어요.. 그만큼 편한 것 같습니다 :)<br><br>(2018-04-18 10:06:14 에 등록된 네이버 페이 구매평)\\n              \\n\\n            ',\n",
       " '\\n              전 만족해요 일단 배송 빠르고 매트리스 커버 부드럽구요<br>누웠을때보단 엎드렸을때 배를 삭 감싸주는 느낌이 들어서 좋네요\\n              \\n\\n            ']"
      ]
     },
     "execution_count": 4,
     "metadata": {},
     "output_type": "execute_result"
    }
   ],
   "source": [
    "comment_list"
   ]
  },
  {
   "cell_type": "code",
   "execution_count": null,
   "metadata": {},
   "outputs": [],
   "source": []
  }
 ],
 "metadata": {
  "kernelspec": {
   "display_name": "Python 3",
   "language": "python",
   "name": "python3"
  },
  "language_info": {
   "codemirror_mode": {
    "name": "ipython",
    "version": 3
   },
   "file_extension": ".py",
   "mimetype": "text/x-python",
   "name": "python",
   "nbconvert_exporter": "python",
   "pygments_lexer": "ipython3",
   "version": "3.6.4"
  }
 },
 "nbformat": 4,
 "nbformat_minor": 2
}
